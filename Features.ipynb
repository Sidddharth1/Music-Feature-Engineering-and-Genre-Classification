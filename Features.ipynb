{
 "cells": [
  {
   "cell_type": "code",
   "execution_count": 1,
   "metadata": {},
   "outputs": [],
   "source": [
    "import librosa \n",
    "import pandas as pd \n",
    "import numpy as np\n",
    "import os\n",
    "import time\n",
    "import re"
   ]
  },
  {
   "cell_type": "code",
   "execution_count": 2,
   "metadata": {},
   "outputs": [],
   "source": [
    "def get_ext_features(directory):\n",
    "    feature_set = []\n",
    "    feature_matrix = []\n",
    "    rootDir = directory\n",
    "    for dirName, subdirList, fileList in os.walk(rootDir):\n",
    "        for fname in fileList:\n",
    "            feature_set.append(fname.replace('.au', ''))\n",
    "            feature_set.append(dirName.replace(directory+'\\\\', ''))\n",
    "            y, sr = librosa.load(dirName+'\\\\'+fname, mono=True)\n",
    "            tempo, beats = librosa.beat.beat_track(y=y, sr=sr)\n",
    "            feature_set.append(np.mean(tempo))\n",
    "            feature_set.append(np.mean(beats))\n",
    "            #SD\n",
    "            feature_set.append(np.std(beats))\n",
    "            beats = np.array_split(beats, 5)\n",
    "            for i in range(0, len(beats)):\n",
    "                beats_x = np.asarray(beats[i])\n",
    "                feature_set.append(np.mean(beats_x))\n",
    "                feature_set.append(np.std(beats_x))\n",
    "            rmse = librosa.feature.rms(y=y)\n",
    "            feature_set.append(np.mean(rmse))\n",
    "            #SD\n",
    "            feature_set.append(np.std(rmse))\n",
    "            rmse = np.array_split(rmse, 5, axis = 1)\n",
    "            for i in range(0, len(rmse)):\n",
    "                rmse_x = np.asarray(rmse[i])\n",
    "                feature_set.append(np.mean(rmse_x))\n",
    "                feature_set.append(np.std(rmse_x))\n",
    "            spec_cent = librosa.feature.spectral_centroid(y=y, sr=sr)\n",
    "            feature_set.append(np.mean(spec_cent))\n",
    "            #SD\n",
    "            feature_set.append(np.std(spec_cent))\n",
    "            spec_cent = np.array_split(spec_cent, 5, axis = 1)\n",
    "            for i in range(0, len(spec_cent)):\n",
    "                spec_cent_x = np.asarray(spec_cent[i])\n",
    "                feature_set.append(np.mean(spec_cent_x))\n",
    "                feature_set.append(np.std(spec_cent_x))\n",
    "            spec_bw = librosa.feature.spectral_bandwidth(y=y, sr=sr)\n",
    "            feature_set.append(np.mean(spec_bw))\n",
    "            #SD\n",
    "            feature_set.append(np.std(spec_bw))\n",
    "            spec_bw = np.array_split(spec_bw, 5, axis = 1)\n",
    "            for i in range(0, len(spec_bw)):\n",
    "                spec_bw_x = np.asarray(spec_bw[i])\n",
    "                feature_set.append(np.mean(spec_bw_x))\n",
    "                feature_set.append(np.std(spec_bw_x))\n",
    "            rolloff = librosa.feature.spectral_rolloff(y=y, sr=sr)\n",
    "            feature_set.append(np.mean(rolloff))\n",
    "            #SD\n",
    "            feature_set.append(np.std(rolloff))\n",
    "            rolloff = np.array_split(rolloff, 5, axis = 1)\n",
    "            for i in range(0, len(rolloff)):\n",
    "                rolloff_x = np.asarray(rolloff[i])\n",
    "                feature_set.append(np.mean(rolloff_x))\n",
    "                feature_set.append(np.std(rolloff_x))\n",
    "            zcr = librosa.feature.zero_crossing_rate(y)\n",
    "            feature_set.append(np.mean(zcr))\n",
    "            #SD\n",
    "            feature_set.append(np.std(zcr))\n",
    "            zcr = np.array_split(zcr, 5, axis = 1)                   \n",
    "            for i in range(0, len(zcr)):\n",
    "                zcr_x = np.asarray(zcr[i])\n",
    "                feature_set.append(np.mean(zcr_x))\n",
    "                feature_set.append(np.std(zcr_x))\n",
    "            feature_set = pd.Series(np.transpose(feature_set))\n",
    "            feature_matrix.append(feature_set)\n",
    "            feature_set = []\n",
    "\n",
    "    return feature_matrix"
   ]
  },
  {
   "cell_type": "code",
   "execution_count": 3,
   "metadata": {},
   "outputs": [],
   "source": [
    "def get_mfcc(directory):\n",
    "    feature_set = []\n",
    "    feature_matrix = []\n",
    "    rootDir = directory\n",
    "    for dirName, subdirList, fileList in os.walk(rootDir):\n",
    "        for fname in fileList:\n",
    "            feature_set.append(fname.replace('.au', ''))\n",
    "            feature_set.append(dirName.replace(directory+'\\\\', ''))\n",
    "            y, sr = librosa.load(dirName+'\\\\'+fname, mono=True)\n",
    "            mfcc = librosa.feature.mfcc(y=y, sr=sr, n_mfcc=20)\n",
    "            for i in range(0, mfcc.shape[0]):\n",
    "                feature_set.append(np.mean(mfcc[i]))\n",
    "                feature_set.append(np.std(mfcc[i]))\n",
    "                mfcc_x = np.array_split(mfcc[i:i+1, :], 5, axis=1)\n",
    "                for j in range(0, len(mfcc_x)):\n",
    "                    mfcc_xx = np.asarray(mfcc_x[j])\n",
    "                    feature_set.append(np.mean(mfcc_xx))\n",
    "                    feature_set.append(np.std(mfcc_xx))\n",
    "            feature_set = pd.Series(np.transpose(feature_set))\n",
    "            feature_matrix.append(feature_set)\n",
    "            feature_set = []\n",
    "            mfcc = []\n",
    "\n",
    "    return feature_matrix"
   ]
  },
  {
   "cell_type": "code",
   "execution_count": 4,
   "metadata": {},
   "outputs": [],
   "source": [
    "def get_stft(directory):\n",
    "    feature_set = []\n",
    "    feature_matrix = []\n",
    "    rootDir = directory\n",
    "    for dirName, subdirList, fileList in os.walk(rootDir):\n",
    "        for fname in fileList:\n",
    "            feature_set.append(fname.replace('.au', ''))\n",
    "            feature_set.append(dirName.replace(directory+'\\\\', ''))\n",
    "            y, sr = librosa.load(dirName+'\\\\'+fname, mono=True)\n",
    "            chroma_stft = librosa.feature.chroma_stft(y=y, sr=sr)\n",
    "            for i in range(0, chroma_stft.shape[0]):\n",
    "                feature_set.append(np.mean(chroma_stft[i]))\n",
    "                feature_set.append(np.std(chroma_stft[i]))\n",
    "                chroma_stft_x = np.array_split(chroma_stft[i:i+1, :], 5, axis=1)\n",
    "                for j in range(0, len(chroma_stft_x)):\n",
    "                    chroma_stft_xx = np.asarray(chroma_stft_x[j])\n",
    "                    feature_set.append(np.mean(chroma_stft_xx))\n",
    "                    feature_set.append(np.std(chroma_stft_xx))\n",
    "            feature_set = pd.Series(np.transpose(feature_set))\n",
    "            feature_matrix.append(feature_set)\n",
    "            feature_set = []\n",
    "            stft = []\n",
    "            \n",
    "    return feature_matrix"
   ]
  },
  {
   "cell_type": "code",
   "execution_count": 7,
   "metadata": {},
   "outputs": [
    {
     "name": "stdout",
     "output_type": "stream",
     "text": [
      "Wall time: 58min 27s\n"
     ]
    },
    {
     "data": {
      "text/plain": [
       "(1000, 75)"
      ]
     },
     "execution_count": 7,
     "metadata": {},
     "output_type": "execute_result"
    }
   ],
   "source": [
    "%time fx = get_ext_features('genres')\n",
    "fx = np.asarray(fx)\n",
    "fx.shape"
   ]
  },
  {
   "cell_type": "code",
   "execution_count": 9,
   "metadata": {},
   "outputs": [],
   "source": [
    "feature_names = ['Song Name', 'Genre', 'Tempo', 'Beats_Mean', 'Beats_SD', 'Beats_1', 'Beats_1_SD', 'Beats_2', 'Beats_2_SD', 'Beats_3', 'Beats_3_SD', 'Beats_4', 'Beats_4_SD', 'Beats_5','Beats_5_SD', 'RMSE', 'RMSE_SD', 'RMSE_1', 'RMSE_1_SD', 'RMSE_2', 'RMSE_2_SD', 'RMSE_3', 'RMSE_3_SD', 'RMSE_4', 'RMSE_4_SD', 'RMSE_5', 'RMSE_5_SD', 'SPEC_CENT', 'SPEC_CENT_SD', 'SPEC_CENT_1', 'SPEC_CENT_1_SD', 'SPEC_CENT_2', 'SPEC_CENT_2_SD', 'SPEC_CENT_3', 'SPEC_CENT_3_SD', 'SPEC_CENT_4', 'SPEC_CENT_4_SD', 'SPEC_CENT_5', 'SPEC_CENT_5_SD', 'SPEC_BW', 'SPEC_BW_SD', 'SPEC_BW_1', 'SPEC_BW_1_SD', 'SPEC_BW_2', 'SPEC_BW_2_SD', 'SPEC_BW_3', 'SPEC_BW_3_SD', 'SPEC_BW_4', 'SPEC_BW_4_SD', 'SPEC_BW_5', 'SPEC_BW_5_SD', 'ROLLOFF', 'ROLLOFF_SD', 'ROLLOFF_1', 'ROLLOFF_1_SD', 'ROLLOFF_2', 'ROLLOFF_2_SD', 'ROLLOFF_3','ROLLOFF_3_SD', 'ROLLOFF_4', 'ROLLOFF_4_SD', 'ROLLOFF_5', 'ROLLOFF_5_SD', 'ZCR', 'ZCR_SD', 'ZCR_1', 'ZCR_1_SD', 'ZCR_2', 'ZCR_2_SD', 'ZCR_3', 'ZCR_3_SD', 'ZCR_4', 'ZCR_4_SD', 'ZCR_5', 'ZCR_5_SD']\n",
    "music_frame = pd.DataFrame(fx, columns = feature_names)"
   ]
  },
  {
   "cell_type": "code",
   "execution_count": 10,
   "metadata": {},
   "outputs": [
    {
     "name": "stdout",
     "output_type": "stream",
     "text": [
      "Wall time: 17min 56s\n"
     ]
    },
    {
     "data": {
      "text/plain": [
       "(1000, 146)"
      ]
     },
     "execution_count": 10,
     "metadata": {},
     "output_type": "execute_result"
    }
   ],
   "source": [
    "%time fx2 = get_stft('genres')\n",
    "fx2 = np.asarray(fx2)\n",
    "fx2.shape"
   ]
  },
  {
   "cell_type": "code",
   "execution_count": 11,
   "metadata": {},
   "outputs": [],
   "source": [
    "feature_names2 = ['Song Name', 'Genre', 'STFT_1', 'STFT_1_SD', 'STFT_1_1', 'STFT_1_1_SD', 'STFT_1_2', 'STFT_1_2_SD', 'STFT_1_3', 'STFT_1_3_SD', 'STFT_1_4', 'STFT_1_4_SD', 'STFT_1_5', 'STFT_1_5_SD', 'STFT_2', 'STFT_2_SD', 'STFT_2_1', 'STFT_2_1_SD', 'STFT_2_2', 'STFT_2_2_SD', 'STFT_2_3', 'STFT_2_3_SD', 'STFT_2_4', 'STFT_2_4_SD', 'STFT_2_5', 'STFT_2_5_SD', 'STFT_3', 'STFT_3_SD', 'STFT_3_1', 'STFT_3_1_SD', 'STFT_3_2', 'STFT_3_2_SD', 'STFT_3_3', 'STFT_3_3_SD', 'STFT_3_4', 'STFT_3_4_SD', 'STFT_3_5', 'STFT_3_5_SD', 'STFT_4', 'STFT_4_SD', 'STFT_4_1', 'STFT_4_1_SD', 'STFT_4_2', 'STFT_4_2_SD', 'STFT_4_3', 'STFT_4_3_SD', 'STFT_4_4', 'STFT_4_4_SD', 'STFT_4_5', 'STFT_4_5_SD', 'STFT_5', 'STFT_5_SD', 'STFT_5_1', 'STFT_5_1_SD', 'STFT_5_2', 'STFT_5_2_SD', 'STFT_5_3', 'STFT_5_3_SD', 'STFT_5_4', 'STFT_5_4_SD', 'STFT_5_5', 'STFT_5_5_SD', 'STFT_6', 'STFT_6_SD', 'STFT_6_1', 'STFT_6_1_SD', 'STFT_6_2', 'STFT_6_2_SD', 'STFT_6_3', 'STFT_6_3_SD', 'STFT_6_4', 'STFT_6_4_SD', 'STFT_6_5', 'STFT_6_5_SD', 'STFT_7', 'STFT_7_SD', 'STFT_7_1', 'STFT_7_1_SD', 'STFT_7_2', 'STFT_7_2_SD', 'STFT_7_3', 'STFT_7_3_SD', 'STFT_7_4', 'STFT_7_4_SD', 'STFT_7_5', 'STFT_7_5_SD', 'STFT_8', 'STFT_8_SD', 'STFT_8_1', 'STFT_8_1_SD', 'STFT_8_2', 'STFT_8_2_SD', 'STFT_8_3', 'STFT_8_3_SD', 'STFT_8_4', 'STFT_8_4_SD', 'STFT_8_5', 'STFT_8_5_SD', 'STFT_9', 'STFT_9_SD', 'STFT_9_1', 'STFT_9_1_SD', 'STFT_9_2', 'STFT_9_2_SD', 'STFT_9_3', 'STFT_9_3_SD', 'STFT_9_4', 'STFT_9_4_SD', 'STFT_9_5', 'STFT_9_5_SD', 'STFT_10', 'STFT_10_SD', 'STFT_10_1', 'STFT_10_1_SD', 'STFT_10_2', 'STFT_10_2_SD', 'STFT_10_3', 'STFT_10_3_SD', 'STFT_10_4', 'STFT_10_4_SD', 'STFT_10_5', 'STFT_10_5_SD', 'STFT_11', 'STFT_11_SD', 'STFT_11_1', 'STFT_11_1_SD', 'STFT_11_2', 'STFT_11_2_SD', 'STFT_11_3', 'STFT_11_3_SD', 'STFT_11_4', 'STFT_11_4_SD', 'STFT_11_5', 'STFT_11_5_SD', 'STFT_12', 'STFT_12_SD', 'STFT_12_1', 'STFT_12_1_SD', 'STFT_12_2', 'STFT_12_2_SD', 'STFT_12_3', 'STFT_12_3_SD', 'STFT_12_4', 'STFT_12_4_SD', 'STFT_12_5', 'STFT_12_5_SD']\n",
    "music_frame2 = pd.DataFrame(fx2, columns = feature_names2)"
   ]
  },
  {
   "cell_type": "code",
   "execution_count": 14,
   "metadata": {},
   "outputs": [
    {
     "name": "stdout",
     "output_type": "stream",
     "text": [
      "Wall time: 9min 39s\n"
     ]
    },
    {
     "data": {
      "text/plain": [
       "(1000, 242)"
      ]
     },
     "execution_count": 14,
     "metadata": {},
     "output_type": "execute_result"
    }
   ],
   "source": [
    "%time fx1 = get_mfcc('genres')\n",
    "fx1 = np.asarray(fx1)\n",
    "fx1.shape"
   ]
  },
  {
   "cell_type": "code",
   "execution_count": 15,
   "metadata": {},
   "outputs": [],
   "source": [
    "feature_names1 = ['Song Name', 'Genre', 'MFCC_1', 'MFCC_1_SD', 'MFCC_1_1', 'MFCC_1_1_SD', 'MFCC_1_2', 'MFCC_1_2_SD', 'MFCC_1_3', 'MFCC_1_3_SD', 'MFCC_1_4', 'MFCC_1_4_SD', 'MFCC_1_5', 'MFCC_1_5_SD', 'MFCC_2', 'MFCC_2_SD', 'MFCC_2_1', 'MFCC_2_1_SD', 'MFCC_2_2', 'MFCC_2_2_SD', 'MFCC_2_3', 'MFCC_2_3_SD', 'MFCC_2_4', 'MFCC_2_4_SD', 'MFCC_2_5', 'MFCC_2_5_SD', 'MFCC_3', 'MFCC_3_SD', 'MFCC_3_1', 'MFCC_3_1_SD', 'MFCC_3_2', 'MFCC_3_2_SD', 'MFCC_3_3', 'MFCC_3_3_SD', 'MFCC_3_4', 'MFCC_3_4_SD', 'MFCC_3_5', 'MFCC_3_5_SD', 'MFCC_4', 'MFCC_4_SD', 'MFCC_4_1', 'MFCC_4_1_SD', 'MFCC_4_2', 'MFCC_4_2_SD', 'MFCC_4_3', 'MFCC_4_3_SD', 'MFCC_4_4', 'MFCC_4_4_SD', 'MFCC_4_5', 'MFCC_4_5_SD', 'MFCC_5', 'MFCC_5_SD', 'MFCC_5_1', 'MFCC_5_1_SD', 'MFCC_5_2', 'MFCC_5_2_SD', 'MFCC_5_3', 'MFCC_5_3_SD', 'MFCC_5_4', 'MFCC_5_4_SD', 'MFCC_5_5', 'MFCC_5_5_SD', 'MFCC_6', 'MFCC_6_SD', 'MFCC_6_1', 'MFCC_6_1_SD', 'MFCC_6_2', 'MFCC_6_2_SD', 'MFCC_6_3', 'MFCC_6_3_SD', 'MFCC_6_4', 'MFCC_6_4_SD', 'MFCC_6_5', 'MFCC_6_5_SD', 'MFCC_7', 'MFCC_7_SD', 'MFCC_7_1', 'MFCC_7_1_SD', 'MFCC_7_2', 'MFCC_7_2_SD', 'MFCC_7_3', 'MFCC_7_3_SD', 'MFCC_7_4', 'MFCC_7_4_SD', 'MFCC_7_5', 'MFCC_7_5_SD', 'MFCC_8', 'MFCC_8_SD', 'MFCC_8_1', 'MFCC_8_1_SD', 'MFCC_8_2', 'MFCC_8_2_SD', 'MFCC_8_3', 'MFCC_8_3_SD', 'MFCC_8_4', 'MFCC_8_4_SD', 'MFCC_8_5', 'MFCC_8_5_SD', 'MFCC_9', 'MFCC_9_SD', 'MFCC_9_1', 'MFCC_9_1_SD', 'MFCC_9_2', 'MFCC_9_2_SD', 'MFCC_9_3', 'MFCC_9_3_SD', 'MFCC_9_4', 'MFCC_9_4_SD', 'MFCC_9_5', 'MFCC_9_5_SD', 'MFCC_10', 'MFCC_10_SD', 'MFCC_10_1', 'MFCC_10_1_SD', 'MFCC_10_2', 'MFCC_10_2_SD', 'MFCC_10_3', 'MFCC_10_3_SD', 'MFCC_10_4', 'MFCC_10_4_SD', 'MFCC_10_5', 'MFCC_10_5_SD', 'MFCC_11', 'MFCC_11_SD', 'MFCC_11_1', 'MFCC_11_1_SD', 'MFCC_11_2', 'MFCC_11_2_SD', 'MFCC_11_3', 'MFCC_11_3_SD', 'MFCC_11_4', 'MFCC_11_4_SD', 'MFCC_11_5', 'MFCC_11_5_SD', 'MFCC_12', 'MFCC_12_SD', 'MFCC_12_1', 'MFCC_12_1_SD', 'MFCC_12_2', 'MFCC_12_2_SD', 'MFCC_12_3', 'MFCC_12_3_SD', 'MFCC_12_4', 'MFCC_12_4_SD', 'MFCC_12_5', 'MFCC_12_5_SD', 'MFCC_13', 'MFCC_13_SD', 'MFCC_13_1', 'MFCC_13_1_SD', 'MFCC_13_2', 'MFCC_13_2_SD', 'MFCC_13_3', 'MFCC_13_3_SD', 'MFCC_13_4', 'MFCC_13_4_SD', 'MFCC_13_5', 'MFCC_13_5_SD', 'MFCC_14', 'MFCC_14_SD', 'MFCC_14_1', 'MFCC_14_1_SD', 'MFCC_14_2', 'MFCC_14_2_SD', 'MFCC_14_3', 'MFCC_14_3_SD', 'MFCC_14_4', 'MFCC_14_4_SD', 'MFCC_14_5', 'MFCC_14_5_SD', 'MFCC_15', 'MFCC_15_SD', 'MFCC_15_1', 'MFCC_15_1_SD', 'MFCC_15_2', 'MFCC_15_2_SD', 'MFCC_15_3', 'MFCC_15_3_SD', 'MFCC_15_4', 'MFCC_15_4_SD', 'MFCC_15_5', 'MFCC_15_5_SD', 'MFCC_16', 'MFCC_16_SD', 'MFCC_16_1', 'MFCC_16_1_SD', 'MFCC_16_2', 'MFCC_16_2_SD', 'MFCC_16_3', 'MFCC_16_3_SD', 'MFCC_16_4', 'MFCC_16_4_SD', 'MFCC_16_5', 'MFCC_16_5_SD', 'MFCC_17', 'MFCC_17_SD', 'MFCC_17_1', 'MFCC_17_1_SD', 'MFCC_17_2', 'MFCC_17_2_SD', 'MFCC_17_3', 'MFCC_17_3_SD', 'MFCC_17_4', 'MFCC_17_4_SD', 'MFCC_17_5', 'MFCC_17_5_SD', 'MFCC_18', 'MFCC_18_SD', 'MFCC_18_1', 'MFCC_18_1_SD', 'MFCC_18_2', 'MFCC_18_2_SD', 'MFCC_18_3', 'MFCC_18_3_SD', 'MFCC_18_4', 'MFCC_18_4_SD', 'MFCC_18_5', 'MFCC_18_5_SD', 'MFCC_19', 'MFCC_19_SD', 'MFCC_19_1', 'MFCC_19_1_SD', 'MFCC_19_2', 'MFCC_19_2_SD', 'MFCC_19_3', 'MFCC_19_3_SD', 'MFCC_19_4', 'MFCC_19_4_SD', 'MFCC_19_5', 'MFCC_19_5_SD', 'MFCC_20', 'MFCC_20_SD', 'MFCC_20_1', 'MFCC_20_1_SD', 'MFCC_20_2', 'MFCC_20_2_SD', 'MFCC_20_3', 'MFCC_20_3_SD', 'MFCC_20_4', 'MFCC_20_4_SD', 'MFCC_20_5', 'MFCC_20_5_SD']\n",
    "music_frame1 = pd.DataFrame(fx1, columns = feature_names1)"
   ]
  },
  {
   "cell_type": "code",
   "execution_count": 16,
   "metadata": {},
   "outputs": [],
   "source": [
    "final_frame = pd.merge(music_frame, music_frame1, on=['Song Name', 'Genre'], how='left')\n",
    "final_frame = pd.merge(final_frame, music_frame2, on=['Song Name', 'Genre'], how='left')"
   ]
  },
  {
   "cell_type": "code",
   "execution_count": 17,
   "metadata": {},
   "outputs": [],
   "source": [
    "final_frame.to_csv('Dataset.csv')"
   ]
  },
  {
   "cell_type": "code",
   "execution_count": null,
   "metadata": {},
   "outputs": [],
   "source": []
  }
 ],
 "metadata": {
  "kernelspec": {
   "display_name": "Python 3",
   "language": "python",
   "name": "python3"
  },
  "language_info": {
   "codemirror_mode": {
    "name": "ipython",
    "version": 3
   },
   "file_extension": ".py",
   "mimetype": "text/x-python",
   "name": "python",
   "nbconvert_exporter": "python",
   "pygments_lexer": "ipython3",
   "version": "3.7.4"
  }
 },
 "nbformat": 4,
 "nbformat_minor": 2
}
